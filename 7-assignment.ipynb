{
 "cells": [
  {
   "cell_type": "markdown",
   "id": "96d432ba-e13e-45cf-a2b4-382ea31e2147",
   "metadata": {},
   "source": [
    "## Q1. Explain why we have to use the Exception class while creating a Custom Exception."
   ]
  },
  {
   "cell_type": "markdown",
   "id": "6255b7aa-2067-4a28-9a1d-9b37a52d828b",
   "metadata": {},
   "source": [
    "### 5 Best Practices for Python Exception Handling. Saad Jamil. ...\n",
    "### Use Specific Exceptions. Catching specific exceptions is akin to using specialized tools for different tasks. ...\n",
    "### Implement Error Logging. ...\n",
    "### Define Custom Exception Classes. ...\n",
    "### Handle Exceptions Gracefully. ...\n",
    "### Use Finally for Cleanup Tasks."
   ]
  },
  {
   "cell_type": "markdown",
   "id": "1704a2bf-d632-44b3-97e0-fe46c8d0ff09",
   "metadata": {},
   "source": [
    "## Q2. Write a python program to print Python Exception Hierarchy."
   ]
  },
  {
   "cell_type": "markdown",
   "id": "e77b51e4-98b0-4db5-887f-610de586c0da",
   "metadata": {},
   "source": [
    "# import inspect module \n",
    "import inspect \n",
    "\n",
    "# our treeClass function \n",
    "def treeClass(cls, ind = 0): \n",
    "\t\n",
    "\t# print name of the class \n",
    "\tprint ('-' * ind, cls.__name__) \n",
    "\t\n",
    "\t# iterating through subclasses \n",
    "\tfor i in cls.__subclasses__(): \n",
    "\t\ttreeClass(i, ind + 3) \n",
    "\n",
    "print(\"Hierarchy for Built-in exceptions is : \") \n",
    "\n",
    "# inspect.getmro() Return a tuple \n",
    "# of class cls’s base classes. \n",
    "\n",
    "# building a tree hierarchy \n",
    "inspect.getclasstree(inspect.getmro(BaseException)) \n",
    "\n",
    "# function call \n",
    "treeClass(BaseException) \n"
   ]
  },
  {
   "cell_type": "markdown",
   "id": "abf3e835-1227-43ec-99db-f7c95440ade6",
   "metadata": {},
   "source": [
    "## Q3. What errors are defined in the ArithmeticError class? Explain any two with an example."
   ]
  },
  {
   "cell_type": "markdown",
   "id": "02f92774-e62e-4719-96a7-352eb670af89",
   "metadata": {},
   "source": [
    "#### The ArithmeticError exception class serves as a base class for those built-in exceptions that are raised due to various arithmetic errors like OverflowError, ZeroDivisionError, FloatingPointError."
   ]
  },
  {
   "cell_type": "markdown",
   "id": "3ebbf78c-0667-44e2-a126-6cbd0746821f",
   "metadata": {},
   "source": [
    "## Q4. Why LookupError class is used? Explain with an example KeyError and IndexError."
   ]
  },
  {
   "cell_type": "code",
   "execution_count": null,
   "id": "d1882284-a711-4620-a2cb-d6544e89583e",
   "metadata": {},
   "outputs": [],
   "source": [
    "# lists\n",
    "x = [1, 2, 3, 4]\n",
    "try:\n",
    "    print(x[10])\n",
    "except LookupError as e:\n",
    "    print(f\"{e}, {e.__class__}\")\n",
    "\n",
    ">>> list index out of range, <class 'IndexError'>\n",
    "\n",
    "# strings\n",
    "x = \"Pylenin\"\n",
    "try:\n",
    "    print(x[10])\n",
    "except LookupError as e:\n",
    "    print(f\"{e}, {e.__class__}\")\n",
    "\n",
    ">>> string index out of range, <class 'IndexError'>    \n",
    "    \n",
    "# tuples\n",
    "x = (1, 2, 3, 4)\n",
    "try:\n",
    "    print(x[10])\n",
    "except LookupError as e:\n",
    "    print(f\"{e}, {e.__class__}\")\n",
    "\n",
    ">>> tuple index out of range, <class 'IndexError'>"
   ]
  },
  {
   "cell_type": "markdown",
   "id": "5b92adfd-671d-44ac-9553-ae0dd23297e4",
   "metadata": {},
   "source": [
    "### Q5. Explain ImportError. What is ModuleNotFoundError?"
   ]
  },
  {
   "cell_type": "markdown",
   "id": "eed8f3e6-cf9b-4639-8e7e-8c5a4131fd86",
   "metadata": {},
   "source": [
    "#### ModuleNotFoundError is only raised when no module is found with that name, usually because the package is not installed. It was introduced in python 3.6+ and is a subclass of ImportError . ImportError is raised when a module fail to import, for one of a million reasons."
   ]
  },
  {
   "cell_type": "markdown",
   "id": "d81d60f3-1691-4d1f-87e6-0bbcf4bca5d9",
   "metadata": {},
   "source": [
    "### Q6. List down some best practices for exception handling in python."
   ]
  },
  {
   "cell_type": "code",
   "execution_count": null,
   "id": "732a4cc5-5248-487a-9844-838a29c5050a",
   "metadata": {},
   "outputs": [],
   "source": [
    "Raising exception groups\n",
    "Stop raising generic exception\n",
    "Prefer specific exceptions\n",
    "Reraising a previous exception\n",
    "Understanding python exceptions\n",
    "Verbose logging\n",
    "Reduce subordinate clauses\n",
    "Stop using raise exception\n",
    "Use"
   ]
  }
 ],
 "metadata": {
  "kernelspec": {
   "display_name": "Python 3 (ipykernel)",
   "language": "python",
   "name": "python3"
  },
  "language_info": {
   "codemirror_mode": {
    "name": "ipython",
    "version": 3
   },
   "file_extension": ".py",
   "mimetype": "text/x-python",
   "name": "python",
   "nbconvert_exporter": "python",
   "pygments_lexer": "ipython3",
   "version": "3.10.8"
  }
 },
 "nbformat": 4,
 "nbformat_minor": 5
}
